{
  "nbformat": 4,
  "nbformat_minor": 0,
  "metadata": {
    "colab": {
      "provenance": [],
      "collapsed_sections": [
        "tMTIUJNXqRN4",
        "-FghwnIsqazo",
        "VxaQPqIrzgTf"
      ],
      "authorship_tag": "ABX9TyO7GenLy49V0XhuUh7LYlHX",
      "include_colab_link": true
    },
    "kernelspec": {
      "name": "python3",
      "display_name": "Python 3"
    },
    "language_info": {
      "name": "python"
    }
  },
  "cells": [
    {
      "cell_type": "markdown",
      "metadata": {
        "id": "view-in-github",
        "colab_type": "text"
      },
      "source": [
        "<a href=\"https://colab.research.google.com/github/ArthurHSM/BigData_Analyticis_R_Azure/blob/main/1_EDA_Modelagem.ipynb\" target=\"_parent\"><img src=\"https://colab.research.google.com/assets/colab-badge.svg\" alt=\"Open In Colab\"/></a>"
      ]
    },
    {
      "cell_type": "markdown",
      "source": [
        "# Setup"
      ],
      "metadata": {
        "id": "tMTIUJNXqRN4"
      }
    },
    {
      "cell_type": "code",
      "execution_count": null,
      "metadata": {
        "id": "4_bE5EumjPtS"
      },
      "outputs": [],
      "source": [
        "# Instalar o Java Development Kit (JDK) - necessário para o Spark\n",
        "!apt-get install openjdk-8-jdk-headless -qq > /dev/null\n",
        "\n",
        "# Instalar o PySpark\n",
        "!pip install pyspark --quiet\n",
        "!pip install findspark --quiet # Para ajudar o Colab a encontrar o Spark\n",
        "!pip install imbalanced-learn --quiet # Manter esta para tratamento de desbalanceamento em Pandas/Scikit-learn"
      ]
    },
    {
      "cell_type": "code",
      "source": [
        "import findspark\n",
        "# Configura o local de instalação do Spark\n",
        "findspark.init()\n",
        "\n",
        "from pyspark.sql import SparkSession\n",
        "from pyspark.sql import functions as F\n",
        "from pyspark.sql.types import *\n",
        "\n",
        "# Cria a sessão Spark\n",
        "spark = SparkSession.builder\\\n",
        "    .appName(\"ITIncidentClassifier\")\\\n",
        "    .master(\"local[*]\")\\\n",
        "    .getOrCreate()\n",
        "\n",
        "print(\"Spark Session iniciada com sucesso!\")\n",
        "\n",
        "# Ferramentas Essenciais\n",
        "import pandas as pd\n",
        "import matplotlib.pyplot as plt\n",
        "import seaborn as sns\n",
        "\n",
        "# Para machine learning (vamos usar o scikit-learn para a modelagem)\n",
        "from sklearn.model_selection import train_test_split\n",
        "from imblearn.over_sampling import SMOTE # Para tratar o desbalanceamento em um subconjunto"
      ],
      "metadata": {
        "colab": {
          "base_uri": "https://localhost:8080/"
        },
        "id": "wpY6IRKHpriy",
        "outputId": "d7f4a602-1570-4b04-a908-9c8153be38f4"
      },
      "execution_count": null,
      "outputs": [
        {
          "output_type": "stream",
          "name": "stdout",
          "text": [
            "Spark Session iniciada com sucesso!\n"
          ]
        }
      ]
    },
    {
      "cell_type": "markdown",
      "source": [
        "# Leitura do dataset"
      ],
      "metadata": {
        "id": "-FghwnIsqazo"
      }
    },
    {
      "cell_type": "code",
      "source": [
        "# Conexão com o Google Drive (se seu arquivo estiver lá)\n",
        "from google.colab import drive\n",
        "drive.mount('/content/drive')\n",
        "\n",
        "# Exemplo de carregamento de arquivo CSV usando PySpark\n",
        "# Lembre-se de ajustar o caminho!\n",
        "data_path = '/content/drive/MyDrive/01-FIAP/TechChallenge_03/alerts_dataset.csv'\n",
        "\n",
        "df_spark = spark.read.csv(\n",
        "    path=data_path,\n",
        "    header=True,\n",
        "    inferSchema=True\n",
        ")"
      ],
      "metadata": {
        "id": "1jxrwfyNqbf9",
        "colab": {
          "base_uri": "https://localhost:8080/"
        },
        "outputId": "ca7d56af-1e3f-4c06-9edf-3e5b9daad4b0"
      },
      "execution_count": 4,
      "outputs": [
        {
          "output_type": "stream",
          "name": "stdout",
          "text": [
            "Drive already mounted at /content/drive; to attempt to forcibly remount, call drive.mount(\"/content/drive\", force_remount=True).\n"
          ]
        }
      ]
    },
    {
      "cell_type": "code",
      "source": [
        "df_spark"
      ],
      "metadata": {
        "colab": {
          "base_uri": "https://localhost:8080/",
          "height": 529
        },
        "id": "-Fvhk391r-MR",
        "outputId": "fe1312ce-7109-4bd2-ac2d-ad5575052f3f"
      },
      "execution_count": 14,
      "outputs": [
        {
          "output_type": "execute_result",
          "data": {
            "text/plain": [
              "+--------------------+------------+-----------+--------+-------------------+--------------------+---------+-------------------+-------------------+-----------+\n",
              "|            alert_id|      source|environment|severity|        metric_name|         description|       ci|         created_at|         updated_at|is_incident|\n",
              "+--------------------+------------+-----------+--------+-------------------+--------------------+---------+-------------------+-------------------+-----------+\n",
              "|9d050826-4e3a-459...|  CloudWatch|       prod|   clear|service_unavailable|High service_unav...|router-16|2025-07-16 00:08:32|2025-07-16 13:00:32|          0|\n",
              "|4de72c92-2e87-4d3...|   Dynatrace|       prod|   major|     db_connections|Db_connections ab...|server-13|2025-09-29 10:12:37|2025-09-30 08:05:37|          1|\n",
              "|73a4448a-43f7-4e1...|ThousandEyes|        hml|   major|          cpu_usage|Cpu usage spike o...|     db-3|2025-09-23 01:14:12|2025-09-23 01:42:12|          0|\n",
              "|b2c6910c-b673-4c6...|   Dynatrace|       prod|      ok|        ping_failed|Multiple ping fai...|server-69|2025-07-07 19:42:15|2025-07-08 10:44:15|          0|\n",
              "|f27a8c9b-d405-42b...|  CloudWatch|        hml|critical| http_response_time|Alert: http respo...|switch-16|2025-09-17 17:38:51|2025-09-18 03:32:51|          0|\n",
              "|252923c6-ebb9-450...|      Zabbix|       prod|      ok|       queue_length|Multiple queue le...|   app-53|2025-09-28 18:01:18|2025-09-28 23:35:18|          1|\n",
              "|d84c7a25-2ede-4e4...|      Zabbix|        hml|critical| http_response_time|Http response tim...|server-37|2025-08-31 19:09:06|2025-09-01 03:48:06|          0|\n",
              "|85522b8f-0f7a-4b4...|  CloudWatch|       prod|      ok|       queue_length|Alert: queue leng...|server-55|2025-08-08 14:51:09|2025-08-08 18:31:09|          0|\n",
              "|91ad3583-d6ff-412...|      Zabbix|       prod|      ok|      response_time|Response_time abo...|    db-39|2025-07-24 14:40:42|2025-07-24 22:14:42|          0|\n",
              "|0b8de405-5e96-4f3...|  CloudWatch|        hml|   minor|        ping_failed|Ping failed criti...|     db-8|2025-08-04 16:30:32|2025-08-04 22:05:32|          0|\n",
              "|284f2929-26a4-4af...|      Zabbix|       prod| warning|            disk_io|Disk_io above thr...|     db-4|2025-07-02 23:25:11|2025-07-03 06:39:11|          0|\n",
              "|9612383e-0ae7-495...|  CloudWatch|       prod|      ok|  connection_errors|High connection_e...|server-38|2025-07-08 15:34:36|2025-07-09 02:05:36|          0|\n",
              "|d720b15d-d3fc-40c...|   Dynatrace|       prod|      ok|     db_connections|Multiple db conne...|   app-33|2025-08-03 07:49:46|2025-08-03 21:31:46|          0|\n",
              "|d8dfe519-edf4-438...|  CloudWatch|        dev|   clear|service_unavailable|Service unavailab...|router-14|2025-07-11 18:30:17|2025-07-12 15:48:17|          0|\n",
              "|541d0edd-c780-44b...|  CloudWatch|       prod|critical|       thread_count|Thread count crit...| switch-6|2025-09-28 06:23:01|2025-09-29 04:28:01|          1|\n",
              "|47a12663-8380-47a...|   Dynatrace|       prod|   clear|          cpu_usage|High cpu_usage de...|    app-1|2025-08-02 13:49:49|2025-08-03 10:52:49|          0|\n",
              "|a7b98812-69ad-41f...|   Dynatrace|       prod|   minor|          cpu_usage|Multiple cpu usag...|server-15|2025-08-05 02:55:14|2025-08-05 11:44:14|          0|\n",
              "|005c1987-a251-483...|   Dynatrace|       prod|   minor| http_response_time|Multiple http res...| server-8|2025-07-27 22:56:18|2025-07-28 08:19:18|          0|\n",
              "|215478fa-780c-412...|   Dynatrace|    unknown|      ok|   disk_space_usage|Multiple disk spa...|     NULL|2025-07-19 08:13:38|2025-07-19 10:59:38|          0|\n",
              "|0464e222-e403-412...|   Dynatrace|       prod| warning|          cpu_usage|High cpu_usage de...| router-3|2025-09-01 09:28:49|2025-09-01 15:56:49|          0|\n",
              "+--------------------+------------+-----------+--------+-------------------+--------------------+---------+-------------------+-------------------+-----------+\n",
              "only showing top 20 rows"
            ],
            "text/html": [
              "<table border='1'>\n",
              "<tr><th>alert_id</th><th>source</th><th>environment</th><th>severity</th><th>metric_name</th><th>description</th><th>ci</th><th>created_at</th><th>updated_at</th><th>is_incident</th></tr>\n",
              "<tr><td>9d050826-4e3a-459...</td><td>CloudWatch</td><td>prod</td><td>clear</td><td>service_unavailable</td><td>High service_unav...</td><td>router-16</td><td>2025-07-16 00:08:32</td><td>2025-07-16 13:00:32</td><td>0</td></tr>\n",
              "<tr><td>4de72c92-2e87-4d3...</td><td>Dynatrace</td><td>prod</td><td>major</td><td>db_connections</td><td>Db_connections ab...</td><td>server-13</td><td>2025-09-29 10:12:37</td><td>2025-09-30 08:05:37</td><td>1</td></tr>\n",
              "<tr><td>73a4448a-43f7-4e1...</td><td>ThousandEyes</td><td>hml</td><td>major</td><td>cpu_usage</td><td>Cpu usage spike o...</td><td>db-3</td><td>2025-09-23 01:14:12</td><td>2025-09-23 01:42:12</td><td>0</td></tr>\n",
              "<tr><td>b2c6910c-b673-4c6...</td><td>Dynatrace</td><td>prod</td><td>ok</td><td>ping_failed</td><td>Multiple ping fai...</td><td>server-69</td><td>2025-07-07 19:42:15</td><td>2025-07-08 10:44:15</td><td>0</td></tr>\n",
              "<tr><td>f27a8c9b-d405-42b...</td><td>CloudWatch</td><td>hml</td><td>critical</td><td>http_response_time</td><td>Alert: http respo...</td><td>switch-16</td><td>2025-09-17 17:38:51</td><td>2025-09-18 03:32:51</td><td>0</td></tr>\n",
              "<tr><td>252923c6-ebb9-450...</td><td>Zabbix</td><td>prod</td><td>ok</td><td>queue_length</td><td>Multiple queue le...</td><td>app-53</td><td>2025-09-28 18:01:18</td><td>2025-09-28 23:35:18</td><td>1</td></tr>\n",
              "<tr><td>d84c7a25-2ede-4e4...</td><td>Zabbix</td><td>hml</td><td>critical</td><td>http_response_time</td><td>Http response tim...</td><td>server-37</td><td>2025-08-31 19:09:06</td><td>2025-09-01 03:48:06</td><td>0</td></tr>\n",
              "<tr><td>85522b8f-0f7a-4b4...</td><td>CloudWatch</td><td>prod</td><td>ok</td><td>queue_length</td><td>Alert: queue leng...</td><td>server-55</td><td>2025-08-08 14:51:09</td><td>2025-08-08 18:31:09</td><td>0</td></tr>\n",
              "<tr><td>91ad3583-d6ff-412...</td><td>Zabbix</td><td>prod</td><td>ok</td><td>response_time</td><td>Response_time abo...</td><td>db-39</td><td>2025-07-24 14:40:42</td><td>2025-07-24 22:14:42</td><td>0</td></tr>\n",
              "<tr><td>0b8de405-5e96-4f3...</td><td>CloudWatch</td><td>hml</td><td>minor</td><td>ping_failed</td><td>Ping failed criti...</td><td>db-8</td><td>2025-08-04 16:30:32</td><td>2025-08-04 22:05:32</td><td>0</td></tr>\n",
              "<tr><td>284f2929-26a4-4af...</td><td>Zabbix</td><td>prod</td><td>warning</td><td>disk_io</td><td>Disk_io above thr...</td><td>db-4</td><td>2025-07-02 23:25:11</td><td>2025-07-03 06:39:11</td><td>0</td></tr>\n",
              "<tr><td>9612383e-0ae7-495...</td><td>CloudWatch</td><td>prod</td><td>ok</td><td>connection_errors</td><td>High connection_e...</td><td>server-38</td><td>2025-07-08 15:34:36</td><td>2025-07-09 02:05:36</td><td>0</td></tr>\n",
              "<tr><td>d720b15d-d3fc-40c...</td><td>Dynatrace</td><td>prod</td><td>ok</td><td>db_connections</td><td>Multiple db conne...</td><td>app-33</td><td>2025-08-03 07:49:46</td><td>2025-08-03 21:31:46</td><td>0</td></tr>\n",
              "<tr><td>d8dfe519-edf4-438...</td><td>CloudWatch</td><td>dev</td><td>clear</td><td>service_unavailable</td><td>Service unavailab...</td><td>router-14</td><td>2025-07-11 18:30:17</td><td>2025-07-12 15:48:17</td><td>0</td></tr>\n",
              "<tr><td>541d0edd-c780-44b...</td><td>CloudWatch</td><td>prod</td><td>critical</td><td>thread_count</td><td>Thread count crit...</td><td>switch-6</td><td>2025-09-28 06:23:01</td><td>2025-09-29 04:28:01</td><td>1</td></tr>\n",
              "<tr><td>47a12663-8380-47a...</td><td>Dynatrace</td><td>prod</td><td>clear</td><td>cpu_usage</td><td>High cpu_usage de...</td><td>app-1</td><td>2025-08-02 13:49:49</td><td>2025-08-03 10:52:49</td><td>0</td></tr>\n",
              "<tr><td>a7b98812-69ad-41f...</td><td>Dynatrace</td><td>prod</td><td>minor</td><td>cpu_usage</td><td>Multiple cpu usag...</td><td>server-15</td><td>2025-08-05 02:55:14</td><td>2025-08-05 11:44:14</td><td>0</td></tr>\n",
              "<tr><td>005c1987-a251-483...</td><td>Dynatrace</td><td>prod</td><td>minor</td><td>http_response_time</td><td>Multiple http res...</td><td>server-8</td><td>2025-07-27 22:56:18</td><td>2025-07-28 08:19:18</td><td>0</td></tr>\n",
              "<tr><td>215478fa-780c-412...</td><td>Dynatrace</td><td>unknown</td><td>ok</td><td>disk_space_usage</td><td>Multiple disk spa...</td><td>NULL</td><td>2025-07-19 08:13:38</td><td>2025-07-19 10:59:38</td><td>0</td></tr>\n",
              "<tr><td>0464e222-e403-412...</td><td>Dynatrace</td><td>prod</td><td>warning</td><td>cpu_usage</td><td>High cpu_usage de...</td><td>router-3</td><td>2025-09-01 09:28:49</td><td>2025-09-01 15:56:49</td><td>0</td></tr>\n",
              "</table>\n",
              "only showing top 20 rows\n"
            ]
          },
          "metadata": {},
          "execution_count": 14
        }
      ]
    },
    {
      "cell_type": "markdown",
      "source": [
        "# EDA - Exploratory Data Analysis"
      ],
      "metadata": {
        "id": "VxaQPqIrzgTf"
      }
    },
    {
      "cell_type": "code",
      "source": [
        "\n",
        "\n",
        "# Considerando que se trata de um problema de classificação, é importante saber a distribuição da variável alvo.\n",
        "# Quantidades maiores de uma classe em relação a outra podem enviezar o modelo.\n",
        "# Usar modelos como Random Forest ou XGBoost podem encaixar bem na distribuição abaixo. Lembrar de usar o argumento de class_weights no treinamento.\n",
        "df_spark.groupBy('is_incident').count().show()"
      ],
      "metadata": {
        "colab": {
          "base_uri": "https://localhost:8080/"
        },
        "id": "_2b2xy0nzj5J",
        "outputId": "f7fd7185-f26e-4d34-d68f-3eb6fa2a3e81"
      },
      "execution_count": 17,
      "outputs": [
        {
          "output_type": "stream",
          "name": "stdout",
          "text": [
            "+-----------+-----+\n",
            "|is_incident|count|\n",
            "+-----------+-----+\n",
            "|          1|14200|\n",
            "|          0|35800|\n",
            "+-----------+-----+\n",
            "\n"
          ]
        }
      ]
    },
    {
      "cell_type": "code",
      "source": [
        "# Analisando a proporção de incidentes por tipo de \"severity\"\n",
        "\n",
        "df_severity_analysis = (\n",
        "    df_spark\n",
        "    .groupBy('severity')\n",
        "    .agg(\n",
        "        F.countDistinct('alert_id').alias('total_alerts'),\n",
        "        F.sum(F.col('is_incident')).alias('total_incidents')\n",
        "    )\n",
        "    .withColumn('perc_incidents', F.round((F.col(\"total_incidents\") / F.col(\"total_alerts\"))*100, 2))\n",
        "    .orderBy(F.col('perc_incidents').desc())\n",
        ")\n",
        "\n",
        "df_severity_analysis.show()\n",
        "\n",
        "# Analisando a proporção de incidentes por tipo de \"source\"\n",
        "\n",
        "df_source_analysis = (\n",
        "    df_spark\n",
        "    .groupBy('source')\n",
        "    .agg(\n",
        "        F.countDistinct('alert_id').alias('total_alerts'),\n",
        "        F.sum(F.col('is_incident')).alias('total_incidents')\n",
        "    )\n",
        "    .withColumn('perc_incidents', F.round((F.col(\"total_incidents\") / F.col(\"total_alerts\"))*100, 2))\n",
        "    .orderBy(F.col('perc_incidents').desc())\n",
        ")\n",
        "\n",
        "df_source_analysis.show()\n",
        "\n",
        "# severidades 'major' e 'critical' parecem ter alta relação positiva com incidentes. Enquanto a 'source' parece não ser uma boa variável preditora (pelo menos quando analisada isoladamente)"
      ],
      "metadata": {
        "colab": {
          "base_uri": "https://localhost:8080/"
        },
        "id": "qkTxhvWkzugT",
        "outputId": "fe6d9ef9-621e-42ef-af1d-3fc621ea321f"
      },
      "execution_count": 26,
      "outputs": [
        {
          "output_type": "stream",
          "name": "stdout",
          "text": [
            "+--------+------------+---------------+--------------+\n",
            "|severity|total_alerts|total_incidents|perc_incidents|\n",
            "+--------+------------+---------------+--------------+\n",
            "|   major|        5082|           3067|         60.35|\n",
            "|critical|        3834|           2303|         60.07|\n",
            "| warning|       12466|           4757|         38.16|\n",
            "|   minor|        7504|           1695|         22.59|\n",
            "|      ok|       17679|           2070|         11.71|\n",
            "|   clear|        3435|            308|          8.97|\n",
            "+--------+------------+---------------+--------------+\n",
            "\n",
            "+------------+------------+---------------+--------------+\n",
            "|      source|total_alerts|total_incidents|perc_incidents|\n",
            "+------------+------------+---------------+--------------+\n",
            "|      Zabbix|        9994|           2880|         28.82|\n",
            "|  CloudWatch|       10041|           2891|         28.79|\n",
            "|   Dynatrace|       24969|           7124|         28.53|\n",
            "|ThousandEyes|        4996|           1305|         26.12|\n",
            "+------------+------------+---------------+--------------+\n",
            "\n"
          ]
        }
      ]
    },
    {
      "cell_type": "code",
      "source": [
        "# Supondo que 'created_at' seja uma string formatada (Ex: 2025-07-16 08:00:32)\n",
        "# Se não for do tipo TIMESTAMP, converta primeiro.\n",
        "\n",
        "# Ação 3: Contagem de valores únicos em 'ci'\n",
        "ci_count = df_spark.select(F.countDistinct(\"ci\")).collect()[0][0]\n",
        "print(f\"Número de CIs (Ativos) únicos: {ci_count}\")\n",
        "\n",
        "\n",
        "# Ação 4: Sazonalidade (Hora e Dia da Semana)\n",
        "df_time_analysis = df_spark.withColumn(\n",
        "    \"hour\", F.hour(F.col(\"created_at\"))\n",
        ").withColumn(\n",
        "    \"day_of_week\", F.dayofweek(F.col(\"created_at\")) # Domingo=1, Sábado=7\n",
        ")\n",
        "\n",
        "# Calcula a taxa de incidente por hora\n",
        "df_incident_rate_by_hour = df_time_analysis.groupBy(\"hour\").agg(\n",
        "    F.countDistinct(F.col(\"alert_id\")).alias(\"total_alerts\"),\n",
        "    F.sum(F.col('is_incident')).alias('total_incidents'),\n",
        ").withColumn('perc_incidents_by_hour', F.round((F.col(\"total_incidents\") / F.col(\"total_alerts\"))*100, 2)).sort(F.col(\"hour\"))\n",
        "\n",
        "df_incident_rate_by_hour.show(24)\n",
        "\n",
        "# Calcula a taxa de incidente por dia da semana\n",
        "df_incident_rate_by_day_of_week = df_time_analysis.groupBy(\"day_of_week\").agg(\n",
        "    F.countDistinct(F.col(\"alert_id\")).alias(\"total_alerts\"),\n",
        "    F.sum(F.col('is_incident')).alias('total_incidents'),\n",
        ").withColumn('perc_incidents_by_day_of_week', F.round((F.col(\"total_incidents\") / F.col(\"total_alerts\"))*100, 2)).sort(F.col(\"day_of_week\"))\n",
        "\n",
        "df_incident_rate_by_day_of_week.show()"
      ],
      "metadata": {
        "colab": {
          "base_uri": "https://localhost:8080/"
        },
        "id": "EV5C0nsH8xJP",
        "outputId": "05631e20-ccd1-458c-e03d-6517f158b6ae"
      },
      "execution_count": 39,
      "outputs": [
        {
          "output_type": "stream",
          "name": "stdout",
          "text": [
            "Número de CIs (Ativos) únicos: 225\n",
            "+----+------------+---------------+----------------------+\n",
            "|hour|total_alerts|total_incidents|perc_incidents_by_hour|\n",
            "+----+------------+---------------+----------------------+\n",
            "|   0|        2079|            588|                 28.28|\n",
            "|   1|        2169|            601|                 27.71|\n",
            "|   2|        2106|            624|                 29.63|\n",
            "|   3|        1998|            582|                 29.13|\n",
            "|   4|        2089|            588|                 28.15|\n",
            "|   5|        2072|            568|                 27.41|\n",
            "|   6|        2032|            572|                 28.15|\n",
            "|   7|        2066|            587|                 28.41|\n",
            "|   8|        2090|            613|                 29.33|\n",
            "|   9|        2148|            565|                  26.3|\n",
            "|  10|        2062|            551|                 26.72|\n",
            "|  11|        2116|            616|                 29.11|\n",
            "|  12|        2080|            614|                 29.52|\n",
            "|  13|        2038|            583|                 28.61|\n",
            "|  14|        2106|            564|                 26.78|\n",
            "|  15|        2092|            619|                 29.59|\n",
            "|  16|        2231|            623|                 27.92|\n",
            "|  17|        2104|            592|                 28.14|\n",
            "|  18|        1987|            562|                 28.28|\n",
            "|  19|        2051|            592|                 28.86|\n",
            "|  20|        2122|            600|                 28.28|\n",
            "|  21|        2088|            606|                 29.02|\n",
            "|  22|        2050|            613|                  29.9|\n",
            "|  23|        2024|            577|                 28.51|\n",
            "+----+------------+---------------+----------------------+\n",
            "\n",
            "+-----------+------------+---------------+-----------------------------+\n",
            "|day_of_week|total_alerts|total_incidents|perc_incidents_by_day_of_week|\n",
            "+-----------+------------+---------------+-----------------------------+\n",
            "|          1|        7132|           2057|                        28.84|\n",
            "|          2|        7223|           2065|                        28.59|\n",
            "|          3|        6705|           1862|                        27.77|\n",
            "|          4|        7307|           2049|                        28.04|\n",
            "|          5|        7116|           2006|                        28.19|\n",
            "|          6|        7289|           2082|                        28.56|\n",
            "|          7|        7228|           2079|                        28.76|\n",
            "+-----------+------------+---------------+-----------------------------+\n",
            "\n"
          ]
        }
      ]
    }
  ]
}